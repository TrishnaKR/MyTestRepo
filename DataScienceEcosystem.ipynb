{
  "metadata": {
    "kernelspec": {
      "name": "python",
      "display_name": "Python (Pyodide)",
      "language": "python"
    },
    "language_info": {
      "codemirror_mode": {
        "name": "python",
        "version": 3
      },
      "file_extension": ".py",
      "mimetype": "text/x-python",
      "name": "python",
      "nbconvert_exporter": "python",
      "pygments_lexer": "ipython3",
      "version": "3.8"
    }
  },
  "nbformat_minor": 5,
  "nbformat": 4,
  "cells": [
    {
      "id": "5ef4c0c1-7aa9-4cf3-9076-0ea48db8defe",
      "cell_type": "markdown",
      "source": "# Data Science Tools and Ecosystem",
      "metadata": {}
    },
    {
      "id": "8f375073-a8bb-4d93-84e3-f564a26f97ec",
      "cell_type": "markdown",
      "source": "## Author  \nTrishna K R",
      "metadata": {}
    },
    {
      "id": "5ce0bfa6-5501-4ebd-9790-379f212ba778",
      "cell_type": "markdown",
      "source": "**Objectives:**\n\n- List popular languages for Data Science  \n- Identify commonly used Data Science libraries  \n- Create tables in Markdown format  \n- Perform basic arithmetic operations in Python  \n- Convert units (e.g., minutes to hours) using Python expressions ",
      "metadata": {}
    },
    {
      "id": "2a634174-6380-4c05-a165-9dd0197247fe",
      "cell_type": "markdown",
      "source": "In this notebook, Data Science Tools and Ecosystem are summarized.\n\n",
      "metadata": {}
    },
    {
      "id": "b1a4a7d4-9bee-4f85-ad19-bf763fbe8f5c",
      "cell_type": "markdown",
      "source": "Some of the popular languages that Data Scientists use are:\n\n1. Python\n2. R\n3. SQL\n4. Julia\n5. Scala",
      "metadata": {}
    },
    {
      "id": "234bff83-dcb9-429a-8d2f-8238132ef16b",
      "cell_type": "markdown",
      "source": "Some of the commonly used libraries used by Data Scientists include:\n\n1. NumPy\n2. Pandas\n3. Matplotlib\n4. Scikit-learn\n5. TensorFlow",
      "metadata": {}
    },
    {
      "id": "28935699-c375-423a-a4de-426730749d35",
      "cell_type": "markdown",
      "source": "| Data Science Tools |\n|:--------------------|\n| Jupyter Notebook  |\n| RStudio           |\n| Apache Zeppelin   |",
      "metadata": {}
    },
    {
      "id": "8dfeda89-f4b4-49ad-9cc0-075e59718a7e",
      "cell_type": "markdown",
      "source": "### Below are a few examples of evaluating arithmetic expressions in Python.",
      "metadata": {}
    },
    {
      "id": "b2be6c3f-aaea-4c2d-911f-3ab89ddf389e",
      "cell_type": "code",
      "source": "#This a simple arithmetic expression to mutiply then add integers\n(3*4)+5",
      "metadata": {
        "trusted": true
      },
      "outputs": [
        {
          "execution_count": 25,
          "output_type": "execute_result",
          "data": {
            "text/plain": "17"
          },
          "metadata": {}
        }
      ],
      "execution_count": 25
    },
    {
      "id": "8a30f329-493a-4a8c-adc5-b1d00df46552",
      "cell_type": "code",
      "source": "# This will convert 200 minutes to hours by dividing by 60.\nhours = (200 / 60)\nprint(str(hours) + \" minutes\")  # Manually concatenating strings",
      "metadata": {
        "trusted": true
      },
      "outputs": [
        {
          "name": "stdout",
          "output_type": "stream",
          "text": "3.3333333333333335 minutes\n"
        }
      ],
      "execution_count": 26
    },
    {
      "id": "a5378399-1732-4964-832e-1579f9ffbfc6",
      "cell_type": "code",
      "source": "",
      "metadata": {
        "trusted": true
      },
      "outputs": [],
      "execution_count": null
    }
  ]
}